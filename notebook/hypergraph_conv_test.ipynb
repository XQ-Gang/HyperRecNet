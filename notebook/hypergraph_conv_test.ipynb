{
 "cells": [
  {
   "cell_type": "code",
   "execution_count": 1,
   "metadata": {
    "collapsed": true,
    "pycharm": {
     "name": "#%%\n"
    }
   },
   "outputs": [],
   "source": [
    "import torch\n",
    "from torch_geometric.nn import HypergraphConv"
   ]
  },
  {
   "cell_type": "code",
   "execution_count": 2,
   "outputs": [],
   "source": [
    "in_channels, out_channels = (16, 32)\n",
    "hyperedge_index = torch.tensor([[0, 0, 1, 1, 2, 3], [0, 1, 0, 1, 0, 1]])\n",
    "hyperedge_weight = torch.tensor([1.0, 0.5])\n",
    "num_nodes = hyperedge_index[0].max().item() + 1\n",
    "num_edges = hyperedge_index[1].max().item() + 1\n",
    "x = torch.randn((num_nodes, in_channels))\n",
    "hyperedge_attr = torch.randn((num_edges, in_channels))\n",
    "\n",
    "conv = HypergraphConv(in_channels, out_channels)\n",
    "assert conv.__repr__() == 'HypergraphConv(16, 32)'\n",
    "out = conv(x, hyperedge_index)\n",
    "assert out.size() == (num_nodes, out_channels)\n",
    "out = conv(x, hyperedge_index, hyperedge_weight)\n",
    "assert out.size() == (num_nodes, out_channels)\n",
    "\n",
    "conv = HypergraphConv(in_channels, out_channels, use_attention=True,\n",
    "                      heads=2)\n",
    "out = conv(x, hyperedge_index, hyperedge_attr=hyperedge_attr)\n",
    "assert out.size() == (num_nodes, 2 * out_channels)\n",
    "out = conv(x, hyperedge_index, hyperedge_weight, hyperedge_attr)\n",
    "assert out.size() == (num_nodes, 2 * out_channels)\n",
    "\n",
    "conv = HypergraphConv(in_channels, out_channels, use_attention=True,\n",
    "                      heads=2, concat=False, dropout=0.5)\n",
    "out = conv(x, hyperedge_index, hyperedge_weight, hyperedge_attr)\n",
    "assert out.size() == (num_nodes, out_channels)"
   ],
   "metadata": {
    "collapsed": false,
    "pycharm": {
     "name": "#%%\n"
    }
   }
  },
  {
   "cell_type": "code",
   "execution_count": 4,
   "outputs": [],
   "source": [
    "in_channels, out_channels = (16, 32)\n",
    "hyperedge_index = torch.tensor([[0, 0, 1, 1, 2, 3, 3, 3, 2, 1, 2],\n",
    "                                [0, 1, 2, 1, 2, 1, 0, 3, 3, 4, 4]])\n",
    "hyperedge_weight = torch.tensor([1.0, 0.5, 0.8, 0.2, 0.7])\n",
    "num_nodes = hyperedge_index[0].max().item() + 1\n",
    "x = torch.randn((num_nodes, in_channels))\n",
    "\n",
    "conv = HypergraphConv(in_channels, out_channels)\n",
    "assert conv.__repr__() == 'HypergraphConv(16, 32)'\n",
    "out = conv(x, hyperedge_index)\n",
    "assert out.size() == (num_nodes, out_channels)\n",
    "out = conv(x, hyperedge_index, hyperedge_weight)\n",
    "assert out.size() == (num_nodes, out_channels)"
   ],
   "metadata": {
    "collapsed": false,
    "pycharm": {
     "name": "#%%\n"
    }
   }
  },
  {
   "cell_type": "code",
   "execution_count": null,
   "outputs": [],
   "source": [],
   "metadata": {
    "collapsed": false,
    "pycharm": {
     "name": "#%%\n"
    }
   }
  }
 ],
 "metadata": {
  "kernelspec": {
   "display_name": "Python 3",
   "language": "python",
   "name": "python3"
  },
  "language_info": {
   "codemirror_mode": {
    "name": "ipython",
    "version": 2
   },
   "file_extension": ".py",
   "mimetype": "text/x-python",
   "name": "python",
   "nbconvert_exporter": "python",
   "pygments_lexer": "ipython2",
   "version": "2.7.6"
  }
 },
 "nbformat": 4,
 "nbformat_minor": 0
}